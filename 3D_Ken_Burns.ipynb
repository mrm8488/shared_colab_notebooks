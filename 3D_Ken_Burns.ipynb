{
  "nbformat": 4,
  "nbformat_minor": 0,
  "metadata": {
    "colab": {
      "name": "Ali's 3D-Ken-Burns.ipynb",
      "provenance": [],
      "collapsed_sections": [],
      "include_colab_link": true
    },
    "kernelspec": {
      "name": "python3",
      "display_name": "Python 3"
    },
    "accelerator": "GPU"
  },
  "cells": [
    {
      "cell_type": "markdown",
      "metadata": {
        "id": "view-in-github",
        "colab_type": "text"
      },
      "source": [
        "<a href=\"https://colab.research.google.com/gist/alialiwa2005/c513aff89d10d04089be5114e161a316/ali-s-3d-ken-burns.ipynb\" target=\"_parent\"><img src=\"https://colab.research.google.com/assets/colab-badge.svg\" alt=\"Open In Colab\"/></a>"
      ]
    },
    {
      "cell_type": "markdown",
      "metadata": {
        "id": "uCEixJujApc8"
      },
      "source": [
        "# 3D Ken Burns\n",
        "This is a reference implementation of 3D Ken Burns Effect from a Single Image [1] using PyTorch. Given a single input image, it animates this still image with a virtual camera scan and zoom subject to motion parallax. Should you be making use of our work, please cite our paper [1].\n",
        "\n",
        "<a href=\"https://arxiv.org/abs/1909.05483\" rel=\"Paper\"><img src=\"http://content.sniklaus.com/kenburns/paper.jpg\" alt=\"Paper\" width=\"100%\"></a>\n"
      ]
    },
    {
      "cell_type": "markdown",
      "metadata": {
        "id": "cJFpObViMXDH"
      },
      "source": [
        "> Colab created by [Manuel Romero](https://twitter.com/mrm8488)"
      ]
    },
    {
      "cell_type": "markdown",
      "metadata": {
        "id": "YXK9VNecNQEF"
      },
      "source": [
        "### 1. Clone the project"
      ]
    },
    {
      "cell_type": "code",
      "metadata": {
        "id": "ZbYRw_GlCL5w",
        "colab": {
          "base_uri": "https://localhost:8080/"
        },
        "outputId": "615775e8-1a09-41b1-cdb2-1946c5a0bc85"
      },
      "source": [
        "!git clone https://github.com/sniklaus/3d-ken-burns.git"
      ],
      "execution_count": null,
      "outputs": [
        {
          "output_type": "stream",
          "name": "stdout",
          "text": [
            "Cloning into '3d-ken-burns'...\n",
            "remote: Enumerating objects: 180, done.\u001b[K\n",
            "remote: Counting objects: 100% (55/55), done.\u001b[K\n",
            "remote: Compressing objects: 100% (39/39), done.\u001b[K\n",
            "remote: Total 180 (delta 29), reused 40 (delta 16), pack-reused 125\u001b[K\n",
            "Receiving objects: 100% (180/180), 348.98 KiB | 1.09 MiB/s, done.\n",
            "Resolving deltas: 100% (102/102), done.\n"
          ]
        }
      ]
    },
    {
      "cell_type": "markdown",
      "metadata": {
        "id": "06tpWil4A6Ck"
      },
      "source": [
        "### 2. Download pretrained models"
      ]
    },
    {
      "cell_type": "code",
      "metadata": {
        "id": "jy-x7Cm7AymM",
        "colab": {
          "base_uri": "https://localhost:8080/"
        },
        "outputId": "3fe8783c-42f5-4757-8b6c-b10b20fb4b33"
      },
      "source": [
        "!wget -O ./3d-ken-burns/models/disparity-estimation.pytorch http://content.sniklaus.com/kenburns/network-disparity.pytorch\n",
        "!wget -O ./3d-ken-burns/models/disparity-refinement.pytorch http://content.sniklaus.com/kenburns/network-refinement.pytorch\n",
        "!wget -O ./3d-ken-burns/models/pointcloud-inpainting.pytorch http://content.sniklaus.com/kenburns/network-inpainting.pytorch"
      ],
      "execution_count": null,
      "outputs": [
        {
          "output_type": "stream",
          "name": "stdout",
          "text": [
            "--2021-09-11 13:04:23--  http://content.sniklaus.com/kenburns/network-disparity.pytorch\n",
            "Resolving content.sniklaus.com (content.sniklaus.com)... 88.198.95.97\n",
            "Connecting to content.sniklaus.com (content.sniklaus.com)|88.198.95.97|:80... connected.\n",
            "HTTP request sent, awaiting response... 200 OK\n",
            "Length: 357438463 (341M) [application/octet-stream]\n",
            "Saving to: ‘./3d-ken-burns/models/disparity-estimation.pytorch’\n",
            "\n",
            "./3d-ken-burns/mode 100%[===================>] 340.88M   145MB/s    in 2.4s    \n",
            "\n",
            "2021-09-11 13:04:26 (145 MB/s) - ‘./3d-ken-burns/models/disparity-estimation.pytorch’ saved [357438463/357438463]\n",
            "\n",
            "--2021-09-11 13:04:26--  http://content.sniklaus.com/kenburns/network-refinement.pytorch\n",
            "Resolving content.sniklaus.com (content.sniklaus.com)... 88.198.95.97\n",
            "Connecting to content.sniklaus.com (content.sniklaus.com)|88.198.95.97|:80... connected.\n",
            "HTTP request sent, awaiting response... 200 OK\n",
            "Length: 2438928 (2.3M) [application/octet-stream]\n",
            "Saving to: ‘./3d-ken-burns/models/disparity-refinement.pytorch’\n",
            "\n",
            "./3d-ken-burns/mode 100%[===================>]   2.33M  --.-KB/s    in 0.08s   \n",
            "\n",
            "2021-09-11 13:04:26 (28.1 MB/s) - ‘./3d-ken-burns/models/disparity-refinement.pytorch’ saved [2438928/2438928]\n",
            "\n",
            "--2021-09-11 13:04:26--  http://content.sniklaus.com/kenburns/network-inpainting.pytorch\n",
            "Resolving content.sniklaus.com (content.sniklaus.com)... 88.198.95.97\n",
            "Connecting to content.sniklaus.com (content.sniklaus.com)|88.198.95.97|:80... connected.\n",
            "HTTP request sent, awaiting response... 200 OK\n",
            "Length: 33179067 (32M) [application/octet-stream]\n",
            "Saving to: ‘./3d-ken-burns/models/pointcloud-inpainting.pytorch’\n",
            "\n",
            "./3d-ken-burns/mode 100%[===================>]  31.64M   117MB/s    in 0.3s    \n",
            "\n",
            "2021-09-11 13:04:26 (117 MB/s) - ‘./3d-ken-burns/models/pointcloud-inpainting.pytorch’ saved [33179067/33179067]\n",
            "\n"
          ]
        }
      ]
    },
    {
      "cell_type": "code",
      "metadata": {
        "id": "w5PBRLqUGYbk",
        "colab": {
          "base_uri": "https://localhost:8080/"
        },
        "outputId": "87b3d9d4-a416-409a-b609-8ea1fda6b49e"
      },
      "source": [
        "!pip install chainer\n",
        "import chainer\n",
        "chainer.print_runtime_info()"
      ],
      "execution_count": null,
      "outputs": [
        {
          "output_type": "stream",
          "name": "stdout",
          "text": [
            "Collecting chainer\n",
            "  Downloading chainer-7.8.0.tar.gz (1.0 MB)\n",
            "\u001b[?25l\r\u001b[K     |▎                               | 10 kB 25.9 MB/s eta 0:00:01\r\u001b[K     |▋                               | 20 kB 32.0 MB/s eta 0:00:01\r\u001b[K     |█                               | 30 kB 24.3 MB/s eta 0:00:01\r\u001b[K     |█▎                              | 40 kB 19.7 MB/s eta 0:00:01\r\u001b[K     |█▋                              | 51 kB 14.3 MB/s eta 0:00:01\r\u001b[K     |█▉                              | 61 kB 10.7 MB/s eta 0:00:01\r\u001b[K     |██▏                             | 71 kB 11.6 MB/s eta 0:00:01\r\u001b[K     |██▌                             | 81 kB 12.8 MB/s eta 0:00:01\r\u001b[K     |██▉                             | 92 kB 11.1 MB/s eta 0:00:01\r\u001b[K     |███▏                            | 102 kB 12.1 MB/s eta 0:00:01\r\u001b[K     |███▌                            | 112 kB 12.1 MB/s eta 0:00:01\r\u001b[K     |███▊                            | 122 kB 12.1 MB/s eta 0:00:01\r\u001b[K     |████                            | 133 kB 12.1 MB/s eta 0:00:01\r\u001b[K     |████▍                           | 143 kB 12.1 MB/s eta 0:00:01\r\u001b[K     |████▊                           | 153 kB 12.1 MB/s eta 0:00:01\r\u001b[K     |█████                           | 163 kB 12.1 MB/s eta 0:00:01\r\u001b[K     |█████▍                          | 174 kB 12.1 MB/s eta 0:00:01\r\u001b[K     |█████▋                          | 184 kB 12.1 MB/s eta 0:00:01\r\u001b[K     |██████                          | 194 kB 12.1 MB/s eta 0:00:01\r\u001b[K     |██████▎                         | 204 kB 12.1 MB/s eta 0:00:01\r\u001b[K     |██████▋                         | 215 kB 12.1 MB/s eta 0:00:01\r\u001b[K     |███████                         | 225 kB 12.1 MB/s eta 0:00:01\r\u001b[K     |███████▏                        | 235 kB 12.1 MB/s eta 0:00:01\r\u001b[K     |███████▌                        | 245 kB 12.1 MB/s eta 0:00:01\r\u001b[K     |███████▉                        | 256 kB 12.1 MB/s eta 0:00:01\r\u001b[K     |████████▏                       | 266 kB 12.1 MB/s eta 0:00:01\r\u001b[K     |████████▌                       | 276 kB 12.1 MB/s eta 0:00:01\r\u001b[K     |████████▉                       | 286 kB 12.1 MB/s eta 0:00:01\r\u001b[K     |█████████                       | 296 kB 12.1 MB/s eta 0:00:01\r\u001b[K     |█████████▍                      | 307 kB 12.1 MB/s eta 0:00:01\r\u001b[K     |█████████▊                      | 317 kB 12.1 MB/s eta 0:00:01\r\u001b[K     |██████████                      | 327 kB 12.1 MB/s eta 0:00:01\r\u001b[K     |██████████▍                     | 337 kB 12.1 MB/s eta 0:00:01\r\u001b[K     |██████████▊                     | 348 kB 12.1 MB/s eta 0:00:01\r\u001b[K     |███████████                     | 358 kB 12.1 MB/s eta 0:00:01\r\u001b[K     |███████████▎                    | 368 kB 12.1 MB/s eta 0:00:01\r\u001b[K     |███████████▋                    | 378 kB 12.1 MB/s eta 0:00:01\r\u001b[K     |████████████                    | 389 kB 12.1 MB/s eta 0:00:01\r\u001b[K     |████████████▎                   | 399 kB 12.1 MB/s eta 0:00:01\r\u001b[K     |████████████▋                   | 409 kB 12.1 MB/s eta 0:00:01\r\u001b[K     |████████████▉                   | 419 kB 12.1 MB/s eta 0:00:01\r\u001b[K     |█████████████▏                  | 430 kB 12.1 MB/s eta 0:00:01\r\u001b[K     |█████████████▌                  | 440 kB 12.1 MB/s eta 0:00:01\r\u001b[K     |█████████████▉                  | 450 kB 12.1 MB/s eta 0:00:01\r\u001b[K     |██████████████▏                 | 460 kB 12.1 MB/s eta 0:00:01\r\u001b[K     |██████████████▍                 | 471 kB 12.1 MB/s eta 0:00:01\r\u001b[K     |██████████████▊                 | 481 kB 12.1 MB/s eta 0:00:01\r\u001b[K     |███████████████                 | 491 kB 12.1 MB/s eta 0:00:01\r\u001b[K     |███████████████▍                | 501 kB 12.1 MB/s eta 0:00:01\r\u001b[K     |███████████████▊                | 512 kB 12.1 MB/s eta 0:00:01\r\u001b[K     |████████████████                | 522 kB 12.1 MB/s eta 0:00:01\r\u001b[K     |████████████████▎               | 532 kB 12.1 MB/s eta 0:00:01\r\u001b[K     |████████████████▋               | 542 kB 12.1 MB/s eta 0:00:01\r\u001b[K     |█████████████████               | 552 kB 12.1 MB/s eta 0:00:01\r\u001b[K     |█████████████████▎              | 563 kB 12.1 MB/s eta 0:00:01\r\u001b[K     |█████████████████▋              | 573 kB 12.1 MB/s eta 0:00:01\r\u001b[K     |██████████████████              | 583 kB 12.1 MB/s eta 0:00:01\r\u001b[K     |██████████████████▏             | 593 kB 12.1 MB/s eta 0:00:01\r\u001b[K     |██████████████████▌             | 604 kB 12.1 MB/s eta 0:00:01\r\u001b[K     |██████████████████▉             | 614 kB 12.1 MB/s eta 0:00:01\r\u001b[K     |███████████████████▏            | 624 kB 12.1 MB/s eta 0:00:01\r\u001b[K     |███████████████████▌            | 634 kB 12.1 MB/s eta 0:00:01\r\u001b[K     |███████████████████▉            | 645 kB 12.1 MB/s eta 0:00:01\r\u001b[K     |████████████████████            | 655 kB 12.1 MB/s eta 0:00:01\r\u001b[K     |████████████████████▍           | 665 kB 12.1 MB/s eta 0:00:01\r\u001b[K     |████████████████████▊           | 675 kB 12.1 MB/s eta 0:00:01\r\u001b[K     |█████████████████████           | 686 kB 12.1 MB/s eta 0:00:01\r\u001b[K     |█████████████████████▍          | 696 kB 12.1 MB/s eta 0:00:01\r\u001b[K     |█████████████████████▋          | 706 kB 12.1 MB/s eta 0:00:01\r\u001b[K     |██████████████████████          | 716 kB 12.1 MB/s eta 0:00:01\r\u001b[K     |██████████████████████▎         | 727 kB 12.1 MB/s eta 0:00:01\r\u001b[K     |██████████████████████▋         | 737 kB 12.1 MB/s eta 0:00:01\r\u001b[K     |███████████████████████         | 747 kB 12.1 MB/s eta 0:00:01\r\u001b[K     |███████████████████████▎        | 757 kB 12.1 MB/s eta 0:00:01\r\u001b[K     |███████████████████████▌        | 768 kB 12.1 MB/s eta 0:00:01\r\u001b[K     |███████████████████████▉        | 778 kB 12.1 MB/s eta 0:00:01\r\u001b[K     |████████████████████████▏       | 788 kB 12.1 MB/s eta 0:00:01\r\u001b[K     |████████████████████████▌       | 798 kB 12.1 MB/s eta 0:00:01\r\u001b[K     |████████████████████████▉       | 808 kB 12.1 MB/s eta 0:00:01\r\u001b[K     |█████████████████████████▏      | 819 kB 12.1 MB/s eta 0:00:01\r\u001b[K     |█████████████████████████▍      | 829 kB 12.1 MB/s eta 0:00:01\r\u001b[K     |█████████████████████████▊      | 839 kB 12.1 MB/s eta 0:00:01\r\u001b[K     |██████████████████████████      | 849 kB 12.1 MB/s eta 0:00:01\r\u001b[K     |██████████████████████████▍     | 860 kB 12.1 MB/s eta 0:00:01\r\u001b[K     |██████████████████████████▊     | 870 kB 12.1 MB/s eta 0:00:01\r\u001b[K     |███████████████████████████     | 880 kB 12.1 MB/s eta 0:00:01\r\u001b[K     |███████████████████████████▎    | 890 kB 12.1 MB/s eta 0:00:01\r\u001b[K     |███████████████████████████▋    | 901 kB 12.1 MB/s eta 0:00:01\r\u001b[K     |████████████████████████████    | 911 kB 12.1 MB/s eta 0:00:01\r\u001b[K     |████████████████████████████▎   | 921 kB 12.1 MB/s eta 0:00:01\r\u001b[K     |████████████████████████████▋   | 931 kB 12.1 MB/s eta 0:00:01\r\u001b[K     |████████████████████████████▉   | 942 kB 12.1 MB/s eta 0:00:01\r\u001b[K     |█████████████████████████████▏  | 952 kB 12.1 MB/s eta 0:00:01\r\u001b[K     |█████████████████████████████▌  | 962 kB 12.1 MB/s eta 0:00:01\r\u001b[K     |█████████████████████████████▉  | 972 kB 12.1 MB/s eta 0:00:01\r\u001b[K     |██████████████████████████████▏ | 983 kB 12.1 MB/s eta 0:00:01\r\u001b[K     |██████████████████████████████▌ | 993 kB 12.1 MB/s eta 0:00:01\r\u001b[K     |██████████████████████████████▊ | 1.0 MB 12.1 MB/s eta 0:00:01\r\u001b[K     |███████████████████████████████ | 1.0 MB 12.1 MB/s eta 0:00:01\r\u001b[K     |███████████████████████████████▍| 1.0 MB 12.1 MB/s eta 0:00:01\r\u001b[K     |███████████████████████████████▊| 1.0 MB 12.1 MB/s eta 0:00:01\r\u001b[K     |████████████████████████████████| 1.0 MB 12.1 MB/s \n",
            "\u001b[?25hRequirement already satisfied: setuptools in /usr/local/lib/python3.7/dist-packages (from chainer) (57.4.0)\n",
            "Requirement already satisfied: typing_extensions in /usr/local/lib/python3.7/dist-packages (from chainer) (3.7.4.3)\n",
            "Requirement already satisfied: filelock in /usr/local/lib/python3.7/dist-packages (from chainer) (3.0.12)\n",
            "Requirement already satisfied: numpy>=1.9.0 in /usr/local/lib/python3.7/dist-packages (from chainer) (1.19.5)\n",
            "Requirement already satisfied: protobuf>=3.0.0 in /usr/local/lib/python3.7/dist-packages (from chainer) (3.17.3)\n",
            "Requirement already satisfied: six>=1.9.0 in /usr/local/lib/python3.7/dist-packages (from chainer) (1.15.0)\n",
            "Building wheels for collected packages: chainer\n",
            "  Building wheel for chainer (setup.py) ... \u001b[?25l\u001b[?25hdone\n",
            "  Created wheel for chainer: filename=chainer-7.8.0-py3-none-any.whl size=967734 sha256=4aa42d014d7a2178a613572635f956ec1a9585034d457b33a5e7297aa097da2f\n",
            "  Stored in directory: /root/.cache/pip/wheels/8d/45/4c/c961846626d4db2511e4acbd5056eefb2aeedcec8208a3ca42\n",
            "Successfully built chainer\n",
            "Installing collected packages: chainer\n",
            "Successfully installed chainer-7.8.0\n"
          ]
        },
        {
          "output_type": "stream",
          "name": "stderr",
          "text": [
            "/usr/local/lib/python3.7/dist-packages/chainer/_environment_check.py:75: UserWarning: \n",
            "--------------------------------------------------------------------------------\n",
            "CuPy (cupy-cuda101) version 9.1.0 may not be compatible with this version of Chainer.\n",
            "Please consider installing the supported version by running:\n",
            "  $ pip install 'cupy-cuda101>=7.7.0,<8.0.0'\n",
            "\n",
            "See the following page for more details:\n",
            "  https://docs.cupy.dev/en/latest/install.html\n",
            "--------------------------------------------------------------------------------\n",
            "\n",
            "  requirement=requirement, help=help))\n"
          ]
        },
        {
          "output_type": "stream",
          "name": "stdout",
          "text": [
            "Platform: Linux-5.4.104+-x86_64-with-Ubuntu-18.04-bionic\n",
            "Chainer: 7.8.0\n",
            "ChainerX: Not Available\n",
            "NumPy: 1.19.5\n",
            "CuPy:\n",
            "  OS                           : Linux-5.4.104+-x86_64-with-Ubuntu-18.04-bionic\n",
            "  Python Version               : 3.7.11\n",
            "  CuPy Version                 : 9.1.0\n",
            "  CuPy Platform                : NVIDIA CUDA\n",
            "  NumPy Version                : 1.19.5\n",
            "  SciPy Version                : 1.4.1\n",
            "  Cython Build Version         : 0.29.22\n",
            "  Cython Runtime Version       : 0.29.24\n",
            "  CUDA Root                    : /usr/local/cuda\n",
            "  nvcc PATH                    : /usr/local/cuda/bin/nvcc\n",
            "  CUDA Build Version           : 10010\n",
            "  CUDA Driver Version          : 11020\n",
            "  CUDA Runtime Version         : 10010\n",
            "  cuBLAS Version               : 10201\n",
            "  cuFFT Version                : 10101\n",
            "  cuRAND Version               : 10101\n",
            "  cuSOLVER Version             : (10, 2, 0)\n",
            "  cuSPARSE Version             : 10300\n",
            "  NVRTC Version                : (10, 1)\n",
            "  Thrust Version               : 100906\n",
            "  CUB Build Version            : 100800\n",
            "  Jitify Build Version         : 60e9e72\n",
            "  cuDNN Build Version          : 8005\n",
            "  cuDNN Version                : 8004\n",
            "  NCCL Build Version           : 2803\n",
            "  NCCL Runtime Version         : 2708\n",
            "  cuTENSOR Version             : None\n",
            "  cuSPARSELt Build Version     : None\n",
            "  Device 0 Name                : Tesla K80\n",
            "  Device 0 Compute Capability  : 37\n",
            "  Device 0 PCI Bus ID          : 0000:00:04.0\n",
            "iDeep: 2.0.0.post3\n"
          ]
        }
      ]
    },
    {
      "cell_type": "code",
      "metadata": {
        "id": "EkrEO7vIIPym"
      },
      "source": [
        "import os\n",
        "os.environ['CUDA_HOME'] = \"/usr/local/cuda\""
      ],
      "execution_count": null,
      "outputs": []
    },
    {
      "cell_type": "code",
      "metadata": {
        "id": "vtd0th84B0Zg"
      },
      "source": [
        "!pip install -q moviepy gevent"
      ],
      "execution_count": null,
      "outputs": []
    },
    {
      "cell_type": "code",
      "metadata": {
        "id": "xXFs3ii5Co82"
      },
      "source": [
        "%cd /content/3d-ken-burns"
      ],
      "execution_count": null,
      "outputs": []
    },
    {
      "cell_type": "markdown",
      "metadata": {
        "id": "ndl8FGKxM_hk"
      },
      "source": [
        "### 3. Upload a picture from your filesystem"
      ]
    },
    {
      "cell_type": "code",
      "metadata": {
        "id": "wgRSDEfRJ6ha"
      },
      "source": [
        "from google.colab import files\n",
        "\n",
        "uploaded = files.upload()\n",
        "pic_name = list(uploaded.keys())[0]\n",
        "print(pic_name)\n",
        "!mv ./$pic_name ./images/$pic_name"
      ],
      "execution_count": null,
      "outputs": []
    },
    {
      "cell_type": "markdown",
      "metadata": {
        "id": "Daw9Ptv5P_EG"
      },
      "source": [
        "### 4. Apply 3D Ken Burns Effect"
      ]
    },
    {
      "cell_type": "code",
      "metadata": {
        "id": "H_6mgeGBDdVD"
      },
      "source": [
        "!python autozoom.py --in ./images/$pic_name --out ./autozoom.mp4"
      ],
      "execution_count": null,
      "outputs": []
    },
    {
      "cell_type": "code",
      "metadata": {
        "id": "yxbbS6JxJZDl"
      },
      "source": [
        "from IPython.display import HTML\n",
        "from base64 import b64encode\n",
        "mp4 = open('./autozoom.mp4','rb').read()\n",
        "data_url = \"data:video/mp4;base64,\" + b64encode(mp4).decode()\n",
        "HTML(\"\"\"\n",
        "<video width=600 controls autoplay>\n",
        "      <source src=\"%s\" type=\"video/mp4\">\n",
        "</video>\n",
        "\"\"\" % data_url)"
      ],
      "execution_count": null,
      "outputs": []
    },
    {
      "cell_type": "markdown",
      "metadata": {
        "id": "rudZ-R-YW67q"
      },
      "source": [
        "### 4. Download it!"
      ]
    },
    {
      "cell_type": "code",
      "metadata": {
        "id": "-ovDi2JrUz6o"
      },
      "source": [
        "files.download(\"./autozoom.mp4\")"
      ],
      "execution_count": null,
      "outputs": []
    },
    {
      "cell_type": "markdown",
      "metadata": {
        "id": "wOyjsg55NeI0"
      },
      "source": [
        "#### If you want to try with another picture go to step 3"
      ]
    },
    {
      "cell_type": "markdown",
      "metadata": {
        "id": "72XSBhKkPKMA"
      },
      "source": [
        " Did you enjoy? Buy me a coffe :)\n",
        " \n",
        "[![ko-fi](https://www.ko-fi.com/img/githubbutton_sm.svg)](https://ko-fi.com/Y8Y3VYYE)"
      ]
    },
    {
      "cell_type": "code",
      "metadata": {
        "id": "HuHR8hcF-tDW"
      },
      "source": [
        ""
      ],
      "execution_count": null,
      "outputs": []
    }
  ]
}
